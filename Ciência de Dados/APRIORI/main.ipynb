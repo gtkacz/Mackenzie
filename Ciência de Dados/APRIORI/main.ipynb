{
 "cells": [
  {
   "cell_type": "code",
   "execution_count": 20,
   "metadata": {},
   "outputs": [],
   "source": [
    "import pandas as pd\n",
    "from mlxtend.frequent_patterns import apriori, association_rules"
   ]
  },
  {
   "cell_type": "code",
   "execution_count": 16,
   "metadata": {},
   "outputs": [
    {
     "name": "stderr",
     "output_type": "stream",
     "text": [
      "C:\\Users\\Gabriel\\AppData\\Local\\Temp\\ipykernel_21724\\1210215860.py:6: FutureWarning: Downcasting behavior in `replace` is deprecated and will be removed in a future version. To retain the old behavior, explicitly call `result.infer_objects(copy=False)`. To opt-in to the future behavior, set `pd.set_option('future.no_silent_downcasting', True)`\n",
      "  df = df.replace(bool_map)\n"
     ]
    },
    {
     "data": {
      "text/html": [
       "<div>\n",
       "<style scoped>\n",
       "    .dataframe tbody tr th:only-of-type {\n",
       "        vertical-align: middle;\n",
       "    }\n",
       "\n",
       "    .dataframe tbody tr th {\n",
       "        vertical-align: top;\n",
       "    }\n",
       "\n",
       "    .dataframe thead th {\n",
       "        text-align: right;\n",
       "    }\n",
       "</style>\n",
       "<table border=\"1\" class=\"dataframe\">\n",
       "  <thead>\n",
       "    <tr style=\"text-align: right;\">\n",
       "      <th></th>\n",
       "      <th>Leite</th>\n",
       "      <th>Guarana</th>\n",
       "      <th>Fralda</th>\n",
       "      <th>Cerveja</th>\n",
       "      <th>Sabao</th>\n",
       "    </tr>\n",
       "  </thead>\n",
       "  <tbody>\n",
       "    <tr>\n",
       "      <th>0</th>\n",
       "      <td>False</td>\n",
       "      <td>True</td>\n",
       "      <td>False</td>\n",
       "      <td>False</td>\n",
       "      <td>True</td>\n",
       "    </tr>\n",
       "    <tr>\n",
       "      <th>1</th>\n",
       "      <td>False</td>\n",
       "      <td>False</td>\n",
       "      <td>False</td>\n",
       "      <td>True</td>\n",
       "      <td>False</td>\n",
       "    </tr>\n",
       "    <tr>\n",
       "      <th>2</th>\n",
       "      <td>False</td>\n",
       "      <td>False</td>\n",
       "      <td>True</td>\n",
       "      <td>True</td>\n",
       "      <td>False</td>\n",
       "    </tr>\n",
       "    <tr>\n",
       "      <th>3</th>\n",
       "      <td>False</td>\n",
       "      <td>False</td>\n",
       "      <td>True</td>\n",
       "      <td>False</td>\n",
       "      <td>True</td>\n",
       "    </tr>\n",
       "    <tr>\n",
       "      <th>4</th>\n",
       "      <td>False</td>\n",
       "      <td>False</td>\n",
       "      <td>True</td>\n",
       "      <td>True</td>\n",
       "      <td>False</td>\n",
       "    </tr>\n",
       "  </tbody>\n",
       "</table>\n",
       "</div>"
      ],
      "text/plain": [
       "   Leite  Guarana  Fralda  Cerveja  Sabao\n",
       "0  False     True   False    False   True\n",
       "1  False    False   False     True  False\n",
       "2  False    False    True     True  False\n",
       "3  False    False    True    False   True\n",
       "4  False    False    True     True  False"
      ]
     },
     "execution_count": 16,
     "metadata": {},
     "output_type": "execute_result"
    }
   ],
   "source": [
    "df = pd.read_csv('supermercado.csv', sep=';', encoding='latin1')\n",
    "df.drop(columns=[col for col in df.columns if 'Unnamed' in col], inplace=True)\n",
    "\n",
    "bool_map = {'S': True, 'N': False}\n",
    "\n",
    "df = df.replace(bool_map)\n",
    "\n",
    "df.head()"
   ]
  },
  {
   "cell_type": "code",
   "execution_count": 21,
   "metadata": {},
   "outputs": [],
   "source": [
    "min_support = 0.3\n",
    "min_confidence = 0.7\n",
    "\n",
    "frequent_itemsets = apriori(df, min_support=min_support, use_colnames=True)\n",
    "rules = association_rules(frequent_itemsets, metric=\"confidence\", min_threshold=min_confidence)"
   ]
  },
  {
   "cell_type": "code",
   "execution_count": 26,
   "metadata": {},
   "outputs": [
    {
     "name": "stdout",
     "output_type": "stream",
     "text": [
      "Combinações frequentes:\n",
      "    support           itemsets\n",
      "0      0.6           (Fralda)\n",
      "1      0.7          (Cerveja)\n",
      "2      0.5            (Sabao)\n",
      "3      0.5  (Fralda, Cerveja)\n",
      "4      0.3    (Fralda, Sabao)\n",
      "\n",
      "===================\n",
      "\n",
      "\n",
      "Regras de associação:\n",
      "   antecedents consequents  antecedent support  consequent support  support  \\\n",
      "0    (Fralda)   (Cerveja)                 0.6                 0.7      0.5   \n",
      "1   (Cerveja)    (Fralda)                 0.7                 0.6      0.5   \n",
      "\n",
      "   confidence      lift  leverage  conviction  zhangs_metric  \n",
      "0    0.833333  1.190476      0.08         1.8       0.400000  \n",
      "1    0.714286  1.190476      0.08         1.4       0.533333  \n"
     ]
    }
   ],
   "source": [
    "print('Combinações frequentes:\\n', frequent_itemsets)\n",
    "\n",
    "print('\\n===================\\n')\n",
    "\n",
    "print('\\nRegras de associação:\\n', rules)"
   ]
  }
 ],
 "metadata": {
  "kernelspec": {
   "display_name": "Python 3",
   "language": "python",
   "name": "python3"
  },
  "language_info": {
   "codemirror_mode": {
    "name": "ipython",
    "version": 3
   },
   "file_extension": ".py",
   "mimetype": "text/x-python",
   "name": "python",
   "nbconvert_exporter": "python",
   "pygments_lexer": "ipython3",
   "version": "3.11.6"
  }
 },
 "nbformat": 4,
 "nbformat_minor": 2
}
